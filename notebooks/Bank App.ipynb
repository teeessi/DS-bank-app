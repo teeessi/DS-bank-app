{
 "cells": [
  {
   "cell_type": "code",
   "execution_count": 1,
   "metadata": {},
   "outputs": [],
   "source": [
    "%load_ext autoreload\n",
    "%autoreload 2"
   ]
  },
  {
   "cell_type": "code",
   "execution_count": 2,
   "metadata": {},
   "outputs": [],
   "source": [
    "from app import Bank"
   ]
  },
  {
   "cell_type": "code",
   "execution_count": 66,
   "metadata": {},
   "outputs": [],
   "source": [
    "bank = Bank('ING DiBa')\n",
    "bank2 = Bank('Credit Suisse')"
   ]
  },
  {
   "cell_type": "code",
   "execution_count": 24,
   "metadata": {},
   "outputs": [
    {
     "name": "stdout",
     "output_type": "stream",
     "text": [
      "Bank: Giro\n",
      "Accounts: [{'number': 1, 'firstname': 'Albert', 'lastname': 'Einstein', 'balance': 0.0}, {'number': 2, 'firstname': 'Paul', 'lastname': 'Ehrenfest', 'balance': 0.0}, {'number': 3, 'firstname': 'Hans', 'lastname': 'Dampf', 'balance': 0.0}]\n",
      "Transactions: [{'sender': {'number': 2, 'firstname': 'Paul', 'lastname': 'Ehrenfest', 'balance': 0.0}, 'recipient': {'number': 1, 'firstname': 'Albert', 'lastname': 'Einstein', 'balance': 0.0}, 'subject': 'Bücher', 'amount': 100}, {'sender': {'number': 2, 'firstname': 'Paul', 'lastname': 'Ehrenfest', 'balance': 0.0}, 'recipient': {'number': 1, 'firstname': 'Albert', 'lastname': 'Einstein', 'balance': 0.0}, 'subject': 'Bücher', 'amount': 100}]\n"
     ]
    }
   ],
   "source": [
    "print(f'Bank: {bank.name}')\n",
    "print(f'Accounts: {bank.accounts}')\n",
    "print(f'Transactions: {bank.transactions}')"
   ]
  },
  {
   "cell_type": "code",
   "execution_count": 37,
   "metadata": {},
   "outputs": [
    {
     "name": "stdout",
     "output_type": "stream",
     "text": [
      "{'number': 1, 'firstname': 'Albert', 'lastname': 'Einstein', 'balance': 0.0}\n",
      "{'number': 2, 'firstname': 'Paul', 'lastname': 'Ehrenfest', 'balance': 0.0}\n"
     ]
    },
    {
     "data": {
      "text/plain": [
       "{'number': 3, 'firstname': 'Hans', 'lastname': 'Dampf', 'balance': 0.0}"
      ]
     },
     "execution_count": 37,
     "metadata": {},
     "output_type": "execute_result"
    }
   ],
   "source": [
    "einstein = bank.open_account({\n",
    "    'number': 1,\n",
    "    'firstname': 'Albert',\n",
    "    'lastname': 'Einstein',\n",
    "})\n",
    "print(einstein)\n",
    "ehrenfest = bank.open_account({\n",
    "    'number': 2,\n",
    "    'firstname': 'Paul',\n",
    "    'lastname': 'Ehrenfest',\n",
    "})\n",
    "print(ehrenfest)\n",
    "bank.open_account({\n",
    "    'number': 3,\n",
    "    'firstname': 'Hans',\n",
    "    'lastname': 'Dampf',\n",
    "})"
   ]
  },
  {
   "cell_type": "code",
   "execution_count": 44,
   "metadata": {},
   "outputs": [],
   "source": [
    "transaction = bank.add_transaction(sender=ehrenfest,\n",
    "                                   recipient=einstein,\n",
    "                                   subject='Bücher',\n",
    "                                   amount=100)\n"
   ]
  },
  {
   "cell_type": "code",
   "execution_count": 45,
   "metadata": {},
   "outputs": [
    {
     "data": {
      "text/plain": [
       "{'sender': {'number': 2,\n",
       "  'firstname': 'Paul',\n",
       "  'lastname': 'Ehrenfest',\n",
       "  'balance': 0.0},\n",
       " 'recipient': {'number': 1,\n",
       "  'firstname': 'Albert',\n",
       "  'lastname': 'Einstein',\n",
       "  'balance': 0.0},\n",
       " 'subject': 'Porto',\n",
       " 'amount': 1.2}"
      ]
     },
     "execution_count": 45,
     "metadata": {},
     "output_type": "execute_result"
    }
   ],
   "source": [
    "bank.add_transaction(sender=ehrenfest,\n",
    "                     recipient=einstein,\n",
    "                     subject='Porto',\n",
    "                     amount=1.2)\n"
   ]
  },
  {
   "cell_type": "code",
   "execution_count": 68,
   "metadata": {},
   "outputs": [
    {
     "name": "stdout",
     "output_type": "stream",
     "text": [
      "Bank: ING DiBa\n",
      "\n",
      "Konten:\n",
      "0: Konto 1, 1 1, Saldo 0.0\n",
      "1: Konto 5, 5 5, Saldo 0.0\n",
      "2: Konto 8, 8 8, Saldo 0.0\n",
      "\n",
      "Transaktionen:\n"
     ]
    }
   ],
   "source": [
    "bank.info()"
   ]
  },
  {
   "cell_type": "code",
   "execution_count": 35,
   "metadata": {},
   "outputs": [
    {
     "name": "stdout",
     "output_type": "stream",
     "text": [
      "Bank: Credit Suisse\n"
     ]
    }
   ],
   "source": [
    "bank2.info()"
   ]
  },
  {
   "cell_type": "code",
   "execution_count": 71,
   "metadata": {},
   "outputs": [
    {
     "ename": "SyntaxError",
     "evalue": "invalid syntax (<ipython-input-71-04966dc4715e>, line 10)",
     "output_type": "error",
     "traceback": [
      "\u001b[0;36m  File \u001b[0;32m\"<ipython-input-71-04966dc4715e>\"\u001b[0;36m, line \u001b[0;32m10\u001b[0m\n\u001b[0;31m    if len(account) > 0:\u001b[0m\n\u001b[0m                       ^\u001b[0m\n\u001b[0;31mSyntaxError\u001b[0m\u001b[0;31m:\u001b[0m invalid syntax\n"
     ]
    }
   ],
   "source": [
    "account_list = [\n",
    "    [1, \"Albert\", \"Einstein\"],\n",
    "    [5, \"Paul\", \"Ehrenfest\"],\n",
    "    [8, \"Hans\", \"Dampf\"],\n",
    "]\n",
    "account_elements = ['number', 'firstname', 'lastname']\n",
    "for account in account_list:\n",
    "    bank.open_account(\n",
    "        {element: account[0]\n",
    "             if len(account) > 0:  # this doesn't work\n",
    "                del account[0]\n",
    "             for element in account_elements}\n",
    "    )\n"
   ]
  },
  {
   "cell_type": "code",
   "execution_count": 72,
   "metadata": {},
   "outputs": [
    {
     "name": "stdout",
     "output_type": "stream",
     "text": [
      "[1, 3, 5]\n",
      "[3, 5]\n",
      "[5]\n",
      "[]\n"
     ]
    },
    {
     "ename": "IndexError",
     "evalue": "list assignment index out of range",
     "output_type": "error",
     "traceback": [
      "\u001b[0;31m---------------------------------------------------------------------------\u001b[0m",
      "\u001b[0;31mIndexError\u001b[0m                                Traceback (most recent call last)",
      "\u001b[0;32m<ipython-input-72-985cbdc713aa>\u001b[0m in \u001b[0;36m<module>\u001b[0;34m\u001b[0m\n\u001b[1;32m      7\u001b[0m \u001b[0;32mdel\u001b[0m \u001b[0ma\u001b[0m\u001b[0;34m[\u001b[0m\u001b[0;36m0\u001b[0m\u001b[0;34m]\u001b[0m\u001b[0;34m\u001b[0m\u001b[0;34m\u001b[0m\u001b[0m\n\u001b[1;32m      8\u001b[0m \u001b[0mprint\u001b[0m\u001b[0;34m(\u001b[0m\u001b[0ma\u001b[0m\u001b[0;34m)\u001b[0m\u001b[0;34m\u001b[0m\u001b[0;34m\u001b[0m\u001b[0m\n\u001b[0;32m----> 9\u001b[0;31m \u001b[0;32mdel\u001b[0m \u001b[0ma\u001b[0m\u001b[0;34m[\u001b[0m\u001b[0;36m0\u001b[0m\u001b[0;34m]\u001b[0m\u001b[0;34m\u001b[0m\u001b[0;34m\u001b[0m\u001b[0m\n\u001b[0m\u001b[1;32m     10\u001b[0m \u001b[0mprint\u001b[0m\u001b[0;34m(\u001b[0m\u001b[0ma\u001b[0m\u001b[0;34m)\u001b[0m\u001b[0;34m\u001b[0m\u001b[0;34m\u001b[0m\u001b[0m\n",
      "\u001b[0;31mIndexError\u001b[0m: list assignment index out of range"
     ]
    }
   ],
   "source": [
    "a = [1, 3, 5]\n",
    "print(a)\n",
    "del a[0]\n",
    "print(a)\n",
    "del a[0]\n",
    "print(a)\n",
    "del a[0]\n",
    "print(a)\n",
    "del a[0]\n",
    "print(a)"
   ]
  },
  {
   "cell_type": "code",
   "execution_count": null,
   "metadata": {},
   "outputs": [],
   "source": []
  }
 ],
 "metadata": {
  "kernelspec": {
   "display_name": "Python 3",
   "language": "python",
   "name": "python3"
  },
  "language_info": {
   "codemirror_mode": {
    "name": "ipython",
    "version": 3
   },
   "file_extension": ".py",
   "mimetype": "text/x-python",
   "name": "python",
   "nbconvert_exporter": "python",
   "pygments_lexer": "ipython3",
   "version": "3.6.8"
  }
 },
 "nbformat": 4,
 "nbformat_minor": 2
}
