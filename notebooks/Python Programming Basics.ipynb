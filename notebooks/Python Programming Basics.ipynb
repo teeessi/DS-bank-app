{
 "cells": [
  {
   "cell_type": "markdown",
   "metadata": {},
   "source": [
    "# Python Programming Basics"
   ]
  },
  {
   "cell_type": "markdown",
   "metadata": {},
   "source": [
    "## Variables"
   ]
  },
  {
   "cell_type": "code",
   "execution_count": 1,
   "metadata": {},
   "outputs": [
    {
     "data": {
      "text/plain": [
       "'Variable value'"
      ]
     },
     "execution_count": 1,
     "metadata": {},
     "output_type": "execute_result"
    }
   ],
   "source": [
    "variable_name = 'Variable value'\n",
    "variable_name"
   ]
  },
  {
   "cell_type": "code",
   "execution_count": 2,
   "metadata": {},
   "outputs": [
    {
     "name": "stdout",
     "output_type": "stream",
     "text": [
      "Variable value\n"
     ]
    }
   ],
   "source": [
    "print(variable_name)"
   ]
  },
  {
   "cell_type": "markdown",
   "metadata": {},
   "source": [
    "## Types\n",
    "\n",
    "https://www.programiz.com/python-programming/variables-datatypes"
   ]
  },
  {
   "cell_type": "markdown",
   "metadata": {},
   "source": [
    "### Numbers"
   ]
  },
  {
   "cell_type": "code",
   "execution_count": 5,
   "metadata": {},
   "outputs": [
    {
     "name": "stdout",
     "output_type": "stream",
     "text": [
      "5 is of type <class 'int'>\n",
      "2.0 is of type <class 'float'>\n",
      "(1+2j) is complex number? True\n"
     ]
    }
   ],
   "source": [
    "a = 5\n",
    "print(a, \"is of type\", type(a))\n",
    "\n",
    "a = 2.\n",
    "print(a, \"is of type\", type(a))\n",
    "\n",
    "a = 1+2j\n",
    "print(a, \"is complex number?\", isinstance(a, complex))"
   ]
  },
  {
   "cell_type": "markdown",
   "metadata": {},
   "source": [
    "### Strings"
   ]
  },
  {
   "cell_type": "code",
   "execution_count": 6,
   "metadata": {},
   "outputs": [
    {
     "name": "stdout",
     "output_type": "stream",
     "text": [
      "s[4] = o\n",
      "s[6:11] = world\n",
      "12\n"
     ]
    }
   ],
   "source": [
    "s = 'Hello world!'\n",
    "\n",
    "# s[4] = 'o'\n",
    "print(\"s[4] =\", s[4])\n",
    "\n",
    "# s[6:11] = 'world'\n",
    "print(\"s[6:11] =\", s[6:11])\n",
    "\n",
    "print(len(s))\n",
    "\n",
    "# Generates error\n",
    "# Strings are immutable in Python\n",
    "# s[5] ='d'"
   ]
  },
  {
   "cell_type": "code",
   "execution_count": 21,
   "metadata": {},
   "outputs": [
    {
     "ename": "TypeError",
     "evalue": "'str' object does not support item assignment",
     "traceback": [
      "\u001b[0;31m---------------------------------------------------------------------------\u001b[0m",
      "\u001b[0;31mTypeError\u001b[0m                                 Traceback (most recent call last)",
      "\u001b[0;32m<ipython-input-21-640fc9a3a8b2>\u001b[0m in \u001b[0;36m<module>\u001b[0;34m\u001b[0m\n\u001b[0;32m----> 1\u001b[0;31m \u001b[0ms\u001b[0m\u001b[0;34m[\u001b[0m\u001b[0;36m0\u001b[0m\u001b[0;34m]\u001b[0m \u001b[0;34m=\u001b[0m \u001b[0;34m'a'\u001b[0m\u001b[0;34m\u001b[0m\u001b[0;34m\u001b[0m\u001b[0m\n\u001b[0m",
      "\u001b[0;31mTypeError\u001b[0m: 'str' object does not support item assignment"
     ],
     "output_type": "error"
    }
   ],
   "source": [
    "s[0] = 'a'"
   ]
  },
  {
   "cell_type": "markdown",
   "metadata": {},
   "source": [
    "#### Template Strings"
   ]
  },
  {
   "cell_type": "code",
   "execution_count": 42,
   "metadata": {},
   "outputs": [
    {
     "name": "stdout",
     "output_type": "stream",
     "text": [
      "Hello Peter!\n",
      "Hello Peter!\n",
      "Hello Paul!\n",
      "Hello Paul N!\n",
      "<class 'dict'>\n"
     ]
    }
   ],
   "source": [
    "name = 'Peter'\n",
    "\n",
    "print(f'Hello {name}!')\n",
    "\n",
    "print('Hello {}!'.format(name))\n",
    "\n",
    "z_dict = {\n",
    "    'name': 'Paul'\n",
    "}\n",
    "print(f'Hello {z_dict[\"name\"]}!')\n",
    "      \n",
    "person = {\n",
    "    'firstname': 'Paul',\n",
    "    'lastname': 'N'\n",
    "}      \n",
    "print('Hello {firstname} {lastname}!'.format(**person))\n",
    "print(type(person))"
   ]
  },
  {
   "cell_type": "markdown",
   "metadata": {},
   "source": [
    "### Lists\n",
    "\n",
    "**Important:** Python has zero based indexing"
   ]
  },
  {
   "cell_type": "code",
   "execution_count": 24,
   "metadata": {},
   "outputs": [
    {
     "name": "stdout",
     "output_type": "stream",
     "text": [
      "<class 'list'>\n",
      "['Klaus', 'Peter']\n",
      "\n",
      "Hallo Klaus Peter!\n"
     ]
    }
   ],
   "source": [
    "person = ['Klaus', 'Peter']\n",
    "print(type(person))\n",
    "print(person)\n",
    "print()\n",
    "\n",
    "# The * before person unpacks the list\n",
    "print('Hallo {} {}!'.format(*person))"
   ]
  },
  {
   "cell_type": "code",
   "execution_count": 32,
   "metadata": {},
   "outputs": [
    {
     "name": "stdout",
     "output_type": "stream",
     "text": [
      "Numbers has 6 elements and a sum of 21\n"
     ]
    }
   ],
   "source": [
    "numbers = [1, 2, 3, 4, 5, 6]\n",
    "numbers_count = len(numbers)\n",
    "numbers_sum = sum(numbers)\n",
    "\n",
    "print(f'Numbers has {numbers_count} elements and a sum of {numbers_sum}')"
   ]
  },
  {
   "cell_type": "code",
   "execution_count": 35,
   "metadata": {},
   "outputs": [
    {
     "name": "stdout",
     "output_type": "stream",
     "text": [
      "[4, 9, 0, 3]\n",
      "1\n"
     ]
    }
   ],
   "source": [
    "# Mutable\n",
    "a_list = [4, 9, 0, 3]\n",
    "print(a_list)\n",
    "\n",
    "a_list[2] = 1\n",
    "print(a_list)"
   ]
  },
  {
   "cell_type": "markdown",
   "metadata": {},
   "source": [
    "### Tuples\n",
    "\n",
    "Tupels sind eine besondere Art der Liste.\n",
    "\n",
    "- Immutable\n",
    "- Können als key in einem Dict benutzt werden"
   ]
  },
  {
   "cell_type": "code",
   "execution_count": 34,
   "metadata": {},
   "outputs": [
    {
     "name": "stdout",
     "output_type": "stream",
     "text": [
      "<class 'tuple'>\n",
      "('Klaus', 'Peter')\n",
      "2\n",
      "Klaus\n",
      "Peter\n",
      "Hallo Klaus Peter!\n"
     ]
    }
   ],
   "source": [
    "person = ('Klaus', 'Peter')\n",
    "print(type(person))\n",
    "print(person)\n",
    "print(len(person))\n",
    "\n",
    "# Firstname\n",
    "print(person[0])\n",
    "\n",
    "# Lastname\n",
    "print(person[1])\n",
    "\n",
    "# The * before person unpacks the tuple\n",
    "print('Hallo {0} {1}!'.format(*person))\n",
    "\n",
    "# Does not work because a tuple is immutable\n",
    "# person[2] = 'Mayer'"
   ]
  },
  {
   "cell_type": "markdown",
   "metadata": {},
   "source": [
    "### Dicts"
   ]
  },
  {
   "cell_type": "code",
   "execution_count": 36,
   "metadata": {},
   "outputs": [
    {
     "name": "stdout",
     "output_type": "stream",
     "text": [
      "<class 'dict'>\n",
      "{'key': 'value', 'other_key': 'other_value'}\n",
      "Hallo Klaus Peter!\n"
     ]
    }
   ],
   "source": [
    "a_dictionary = {\n",
    "    'key': 'value',\n",
    "    'other_key': 'other_value',\n",
    "}\n",
    "print(type(a_dictionary))\n",
    "print(a_dictionary)\n",
    "\n",
    "person = {\n",
    "    'firstname': 'Klaus',\n",
    "    'lastname': 'Peter',\n",
    "}\n",
    "\n",
    "print('Hallo {firstname} {lastname}!'.format(**person))"
   ]
  },
  {
   "cell_type": "markdown",
   "metadata": {},
   "source": [
    "## Iterables / Loops"
   ]
  },
  {
   "cell_type": "code",
   "execution_count": 57,
   "metadata": {},
   "outputs": [
    {
     "name": "stdout",
     "output_type": "stream",
     "text": [
      "4\n",
      "9\n",
      "0\n",
      "3\n",
      "\n",
      "\n",
      "0 4\n",
      "1 9\n",
      "2 0\n",
      "3 3\n"
     ]
    }
   ],
   "source": [
    "a_list = [4, 9, 0, 3]\n",
    "\n",
    "for item in a_list:\n",
    "    print(item)\n",
    "\n",
    "\n",
    "print('\\n')\n",
    "\n",
    "for index, item in enumerate(a_list):\n",
    "    print(index, item)"
   ]
  },
  {
   "cell_type": "code",
   "execution_count": 58,
   "metadata": {},
   "outputs": [
    {
     "name": "stdout",
     "output_type": "stream",
     "text": [
      "firstname Klaus\n",
      "lastname Peter\n",
      "\n",
      "\n",
      "firstname Klaus\n",
      "lastname Peter\n"
     ]
    }
   ],
   "source": [
    "a_dict = {'firstname': 'Klaus', 'lastname': 'Peter'}\n",
    "\n",
    "for key in a_dict:\n",
    "    print(key, a_dict[key])\n",
    "\n",
    "print('\\n')\n",
    "\n",
    "# With a_dict.items()\n",
    "for key, value in a_dict.items():\n",
    "    print(key, value)"
   ]
  },
  {
   "cell_type": "markdown",
   "metadata": {},
   "source": [
    "## Functions"
   ]
  },
  {
   "cell_type": "code",
   "execution_count": 59,
   "metadata": {},
   "outputs": [
    {
     "name": "stdout",
     "output_type": "stream",
     "text": [
      "10 + 100 = 110\n"
     ]
    }
   ],
   "source": [
    "# Returns the sum\n",
    "def add(left, right):\n",
    "    return left + right\n",
    "\n",
    "result = add(10, 100)\n",
    "print(f'10 + 100 = {result}')"
   ]
  },
  {
   "cell_type": "code",
   "execution_count": 60,
   "metadata": {},
   "outputs": [
    {
     "name": "stdout",
     "output_type": "stream",
     "text": [
      "5 + 18 = 23\n"
     ]
    }
   ],
   "source": [
    "# Does not return anything but prints the result\n",
    "def add_and_print(left, right):\n",
    "    result = add(left, right)\n",
    "    print(f'{left} + {right} = {result}')\n",
    "    \n",
    "add_and_print(5, 18)"
   ]
  },
  {
   "cell_type": "markdown",
   "metadata": {},
   "source": [
    "### Positional and Keyword arguments"
   ]
  },
  {
   "cell_type": "code",
   "execution_count": 64,
   "metadata": {},
   "outputs": [
    {
     "name": "stdout",
     "output_type": "stream",
     "text": [
      "Hello Anna Müller!\n",
      "Hello Anna Müller!\n",
      "\n",
      "\n",
      "Hello Anna Müller!\n",
      "Hello Klaus Peter!\n"
     ]
    }
   ],
   "source": [
    "# Positional\n",
    "def say_hello_to(firstname, lastname):\n",
    "    print(f'Hello {firstname} {lastname}!')\n",
    "    \n",
    "say_hello_to('Anna', 'Müller')\n",
    "\n",
    "def say_hello_to(*, firstname, lastname):\n",
    "    print(f'Hello {firstname} {lastname}!')\n",
    "\n",
    "say_hello_to(firstname='Anna',\n",
    "             lastname='Müller')\n",
    "\n",
    "print('\\n')\n",
    "people = [\n",
    "    {'firstname': 'Anna', 'lastname': 'Müller'},\n",
    "    {'firstname': 'Klaus', 'lastname': 'Peter'},\n",
    "]\n",
    "\n",
    "for person in people:\n",
    "    say_hello_to(**person)"
   ]
  },
  {
   "cell_type": "markdown",
   "metadata": {},
   "source": [
    "## Classes"
   ]
  },
  {
   "cell_type": "code",
   "execution_count": 76,
   "metadata": {},
   "outputs": [
    {
     "name": "stdout",
     "output_type": "stream",
     "text": [
      "<__main__.Dog object at 0x111a55a20>\n",
      "Lily\n",
      "Lily is eating\n",
      "Lily is sleeping\n",
      "Lily is sleeping\n",
      "sleeping\n"
     ]
    }
   ],
   "source": [
    "class Dog:\n",
    "    def __init__(self, name):\n",
    "        self.name = name\n",
    "        self._state = 'idle'\n",
    "        \n",
    "    def eat(self):\n",
    "        self._state = 'eating'\n",
    "        print(f'{self.name} is eating')\n",
    "        \n",
    "    def sleep(self, *, hours):\n",
    "        self._state = 'sleeping'\n",
    "        self._print_state()\n",
    "\n",
    "    def _print_state(self):\n",
    "        print(f'{self.name} is {self._state}')\n",
    "\n",
    "dog = Dog('Lily')\n",
    "print(dog)\n",
    "print(dog.name)\n",
    "\n",
    "dog.eat()\n",
    "dog.sleep(hours=4)\n",
    "\n",
    "# don't do this - properties and methods with underscore prefix only for internal use by convention\n",
    "dog._print_state()\n",
    "print(dog._state)"
   ]
  },
  {
   "cell_type": "markdown",
   "metadata": {},
   "source": [
    "## Modules / Packages / Imports"
   ]
  },
  {
   "cell_type": "code",
   "execution_count": 77,
   "metadata": {},
   "outputs": [
    {
     "name": "stdout",
     "output_type": "stream",
     "text": [
      "<module 'pandas' from '/Users/thilo/anaconda3/envs/neue-fische-bank-app/lib/python3.6/site-packages/pandas/__init__.py'>\n",
      "Empty DataFrame\n",
      "Columns: []\n",
      "Index: []\n"
     ]
    }
   ],
   "source": [
    "import pandas as pd\n",
    "\n",
    "print(pd)\n",
    "print(pd.DataFrame())"
   ]
  },
  {
   "cell_type": "code",
   "execution_count": null,
   "metadata": {},
   "outputs": [],
   "source": []
  }
 ],
 "metadata": {
  "kernelspec": {
   "display_name": "Python 3",
   "language": "python",
   "name": "python3"
  },
  "language_info": {
   "codemirror_mode": {
    "name": "ipython",
    "version": 3
   },
   "file_extension": ".py",
   "mimetype": "text/x-python",
   "name": "python",
   "nbconvert_exporter": "python",
   "pygments_lexer": "ipython3",
   "version": "3.6.8"
  }
 },
 "nbformat": 4,
 "nbformat_minor": 2
}
